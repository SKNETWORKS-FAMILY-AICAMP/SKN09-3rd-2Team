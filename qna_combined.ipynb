{
 "cells": [
  {
   "cell_type": "code",
   "execution_count": null,
   "metadata": {},
   "outputs": [
    {
     "name": "stdout",
     "output_type": "stream",
     "text": [
      "14\n",
      "11\n"
     ]
    },
    {
     "data": {
      "text/plain": [
       "{'question': '베트남 호텔에서 체크아웃 시간은 보통 몇 시인가요?',\n",
       " 'answer': '대부분 오전 12시이며, 늦은 체크아웃은 사전 문의 시 추가 비용으로 가능한 경우가 많습니다.'}"
      ]
     },
     "execution_count": 10,
     "metadata": {},
     "output_type": "execute_result"
    }
   ],
   "source": [
    "import json\n",
    "import glob\n",
    "import os\n",
    "\n",
    "dataset = []\n",
    "\n",
    "# ./qna폴더에서 추가\n",
    "json_dir = './qna'\n",
    "json_files = glob.glob(os.path.join(json_dir, \"*.json\"))\n",
    "print(len(json_files))\n",
    "\n",
    "\n",
    "for json_file in json_files:\n",
    "    with open(json_file, 'r', encoding='utf-8') as f:\n",
    "        result = json.load(f)\n",
    "        for item in result:\n",
    "            dataset.append({\n",
    "                'question': item['question'],\n",
    "                'answer': item['answer']\n",
    "            })\n",
    "\n",
    "# ./project_3/qna\n",
    "json_dir = './project_3/question'\n",
    "\n",
    "json_files = glob.glob(os.path.join(json_dir, \"*.json\"))\n",
    "print(len(json_files))\n",
    "\n",
    "for json_file in json_files:\n",
    "    with open(json_file, 'r', encoding='utf-8') as f:\n",
    "        result = json.load(f)\n",
    "        for item in result:\n",
    "            dataset.append({\n",
    "                'question': item['question'],\n",
    "                'answer': item['answer']\n",
    "            })"
   ]
  },
  {
   "cell_type": "code",
   "execution_count": 11,
   "metadata": {},
   "outputs": [],
   "source": [
    "output_path = './merged_dataset.json'\n",
    "\n",
    "# JSON 파일로 저장\n",
    "with open(output_path, 'w', encoding='utf-8') as f:\n",
    "    json.dump(dataset, f, ensure_ascii=False, indent=2)"
   ]
  }
 ],
 "metadata": {
  "kernelspec": {
   "display_name": "vectordb_env",
   "language": "python",
   "name": "python3"
  },
  "language_info": {
   "codemirror_mode": {
    "name": "ipython",
    "version": 3
   },
   "file_extension": ".py",
   "mimetype": "text/x-python",
   "name": "python",
   "nbconvert_exporter": "python",
   "pygments_lexer": "ipython3",
   "version": "3.9.21"
  }
 },
 "nbformat": 4,
 "nbformat_minor": 2
}
