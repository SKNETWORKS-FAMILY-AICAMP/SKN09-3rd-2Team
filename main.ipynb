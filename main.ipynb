{
 "cells": [
  {
   "cell_type": "code",
   "execution_count": 1,
   "metadata": {},
   "outputs": [],
   "source": [
    "# !export TOKENIZERS_PARALLELISM=false\n",
    "# !python -m pip install --upgrade pip\n",
    "# !pip install typing_extensions pydantic openai\n",
    "# !pip install datasets transformers peft trl bitsandbytes\n",
    "# !pip install sentence-transformers langchain langchain_community\n",
    "# !pip install chromadb\n",
    "# #!pip uninstall numpy -y\n",
    "# # !pip install numpy==1.26.4\n",
    "# !pip install \"numpy<2\""
   ]
  },
  {
   "cell_type": "code",
   "execution_count": null,
   "metadata": {
    "scrolled": true
   },
   "outputs": [
    {
     "name": "stderr",
     "output_type": "stream",
     "text": [
      "/usr/local/lib/python3.10/dist-packages/transformers/models/auto/modeling_auto.py:1682: FutureWarning: Loading a multimodal model with `AutoModelForCausalLM` is deprecated and will be removed in v5. `AutoModelForCausalLM` will be used to load only the text-to-text generation module.\n",
      "  warnings.warn(\n"
     ]
    },
    {
     "data": {
      "application/vnd.jupyter.widget-view+json": {
       "model_id": "2b1ce5c1a0824ad2ad1bd6867c26c245",
       "version_major": 2,
       "version_minor": 0
      },
      "text/plain": [
       "Loading checkpoint shards:   0%|          | 0/2 [00:00<?, ?it/s]"
      ]
     },
     "metadata": {},
     "output_type": "display_data"
    }
   ],
   "source": [
    "from huggingface_hub import login\n",
    "login(token='')\n",
    "\n",
    "from peft import PeftModel\n",
    "\n",
    "from transformers import AutoModelForCausalLM\n",
    "\n",
    "model_name = \"google/gemma-3-4b-it\"\n",
    "\n",
    "base_model = AutoModelForCausalLM.from_pretrained(model_name)\n",
    "model = PeftModel.from_pretrained(base_model, \"jeongyoonhuh/q_lora_korqa\")"
   ]
  },
  {
   "cell_type": "code",
   "execution_count": 3,
   "metadata": {},
   "outputs": [
    {
     "name": "stderr",
     "output_type": "stream",
     "text": [
      "Device set to use cuda:0\n",
      "The model 'PeftModelForCausalLM' is not supported for text-generation. Supported models are ['AriaTextForCausalLM', 'BambaForCausalLM', 'BartForCausalLM', 'BertLMHeadModel', 'BertGenerationDecoder', 'BigBirdForCausalLM', 'BigBirdPegasusForCausalLM', 'BioGptForCausalLM', 'BlenderbotForCausalLM', 'BlenderbotSmallForCausalLM', 'BloomForCausalLM', 'CamembertForCausalLM', 'LlamaForCausalLM', 'CodeGenForCausalLM', 'CohereForCausalLM', 'Cohere2ForCausalLM', 'CpmAntForCausalLM', 'CTRLLMHeadModel', 'Data2VecTextForCausalLM', 'DbrxForCausalLM', 'DiffLlamaForCausalLM', 'ElectraForCausalLM', 'Emu3ForCausalLM', 'ErnieForCausalLM', 'FalconForCausalLM', 'FalconMambaForCausalLM', 'FuyuForCausalLM', 'GemmaForCausalLM', 'Gemma2ForCausalLM', 'Gemma3ForConditionalGeneration', 'Gemma3ForCausalLM', 'GitForCausalLM', 'GlmForCausalLM', 'GotOcr2ForConditionalGeneration', 'GPT2LMHeadModel', 'GPT2LMHeadModel', 'GPTBigCodeForCausalLM', 'GPTNeoForCausalLM', 'GPTNeoXForCausalLM', 'GPTNeoXJapaneseForCausalLM', 'GPTJForCausalLM', 'GraniteForCausalLM', 'GraniteMoeForCausalLM', 'GraniteMoeSharedForCausalLM', 'HeliumForCausalLM', 'JambaForCausalLM', 'JetMoeForCausalLM', 'LlamaForCausalLM', 'MambaForCausalLM', 'Mamba2ForCausalLM', 'MarianForCausalLM', 'MBartForCausalLM', 'MegaForCausalLM', 'MegatronBertForCausalLM', 'MistralForCausalLM', 'MixtralForCausalLM', 'MllamaForCausalLM', 'MoshiForCausalLM', 'MptForCausalLM', 'MusicgenForCausalLM', 'MusicgenMelodyForCausalLM', 'MvpForCausalLM', 'NemotronForCausalLM', 'OlmoForCausalLM', 'Olmo2ForCausalLM', 'OlmoeForCausalLM', 'OpenLlamaForCausalLM', 'OpenAIGPTLMHeadModel', 'OPTForCausalLM', 'PegasusForCausalLM', 'PersimmonForCausalLM', 'PhiForCausalLM', 'Phi3ForCausalLM', 'PhimoeForCausalLM', 'PLBartForCausalLM', 'ProphetNetForCausalLM', 'QDQBertLMHeadModel', 'Qwen2ForCausalLM', 'Qwen2MoeForCausalLM', 'RecurrentGemmaForCausalLM', 'ReformerModelWithLMHead', 'RemBertForCausalLM', 'RobertaForCausalLM', 'RobertaPreLayerNormForCausalLM', 'RoCBertForCausalLM', 'RoFormerForCausalLM', 'RwkvForCausalLM', 'Speech2Text2ForCausalLM', 'StableLmForCausalLM', 'Starcoder2ForCausalLM', 'TransfoXLLMHeadModel', 'TrOCRForCausalLM', 'WhisperForCausalLM', 'XGLMForCausalLM', 'XLMWithLMHeadModel', 'XLMProphetNetForCausalLM', 'XLMRobertaForCausalLM', 'XLMRobertaXLForCausalLM', 'XLNetLMHeadModel', 'XmodForCausalLM', 'ZambaForCausalLM', 'Zamba2ForCausalLM'].\n",
      "/tmp/ipykernel_4865/180267628.py:29: LangChainDeprecationWarning: The class `HuggingFacePipeline` was deprecated in LangChain 0.0.37 and will be removed in 1.0. An updated version of the class exists in the :class:`~langchain-huggingface package and should be used instead. To use it run `pip install -U :class:`~langchain-huggingface` and import as `from :class:`~langchain_huggingface import HuggingFacePipeline``.\n",
      "  llm = HuggingFacePipeline(pipeline=hf_pipeline)\n",
      "/tmp/ipykernel_4865/180267628.py:32: LangChainDeprecationWarning: The class `HuggingFaceEmbeddings` was deprecated in LangChain 0.2.2 and will be removed in 1.0. An updated version of the class exists in the :class:`~langchain-huggingface package and should be used instead. To use it run `pip install -U :class:`~langchain-huggingface` and import as `from :class:`~langchain_huggingface import HuggingFaceEmbeddings``.\n",
      "  embedding = HuggingFaceEmbeddings(model_name=\"jhgan/ko-sroberta-multitask\")\n",
      "/usr/local/lib/python3.10/dist-packages/torch/_utils.py:831: UserWarning: TypedStorage is deprecated. It will be removed in the future and UntypedStorage will be the only storage class. This should only matter to you if you are using storages directly.  To access UntypedStorage directly, use tensor.untyped_storage() instead of tensor.storage()\n",
      "  return self.fget.__get__(instance, owner)()\n",
      "/tmp/ipykernel_4865/180267628.py:33: LangChainDeprecationWarning: The class `Chroma` was deprecated in LangChain 0.2.9 and will be removed in 1.0. An updated version of the class exists in the :class:`~langchain-chroma package and should be used instead. To use it run `pip install -U :class:`~langchain-chroma` and import as `from :class:`~langchain_chroma import Chroma``.\n",
      "  vector_store = Chroma(\n"
     ]
    }
   ],
   "source": [
    "from langchain.prompts import PromptTemplate\n",
    "from langchain.callbacks.tracers import LangChainTracer\n",
    "from langchain.callbacks.manager import CallbackManager\n",
    "from langsmith import Client\n",
    "import os\n",
    "import uuid\n",
    "import time\n",
    "from langchain.chains import RetrievalQA, ConversationalRetrievalChain\n",
    "from langchain.llms import HuggingFacePipeline\n",
    "from langchain.memory import ConversationBufferMemory\n",
    "from langchain_community.vectorstores import Chroma\n",
    "from transformers import pipeline, AutoTokenizer, AutoModelForCausalLM\n",
    "from peft import PeftModel\n",
    "from langchain_community.embeddings import HuggingFaceEmbeddings\n",
    "import torch\n",
    "\n",
    "tokenizer = AutoTokenizer.from_pretrained(model_name)\n",
    "\n",
    "# Pipeline 래핑\n",
    "hf_pipeline = pipeline(\n",
    "    \"text-generation\",\n",
    "    model=model,\n",
    "    tokenizer=tokenizer,\n",
    "    max_new_tokens=512,\n",
    "    temperature=0.1,\n",
    "    top_p=0.95,\n",
    "    repetition_penalty=1.1,\n",
    ")\n",
    "llm = HuggingFacePipeline(pipeline=hf_pipeline)\n",
    "\n",
    "# 임베딩 및 벡터스토어 로드\n",
    "embedding = HuggingFaceEmbeddings(model_name=\"jhgan/ko-sroberta-multitask\")\n",
    "vector_store = Chroma(\n",
    "    persist_directory=\"chroma_index\",\n",
    "    embedding_function=embedding\n",
    ")\n",
    "retriever = vector_store.as_retriever(\n",
    "    search_type=\"similarity_score_threshold\",\n",
    "    search_kwargs={\n",
    "        \"score_threshold\": 0.7\n",
    "    }\n",
    ")\n",
    "\n",
    "# ✅ 사용자 정의 프롬프트\n",
    "custom_prompt = PromptTemplate(\n",
    "    input_variables=[\"context\", \"question\"],\n",
    "    template=\"\"\"\n",
    "        너는 항공기 반입 금지 및 제한 물품에 대하여 친절하게 답해주고 나라별 여행지 추천 및 문화차이를 잘 설명할 수 있어\n",
    "        문맥에 해당 하는 내용들만 신뢰도있게 대답해야해\n",
    "\n",
    "        ### 질문:\n",
    "        {question}\n",
    "        \n",
    "        ### 문맥:\n",
    "        {context}\n",
    "\n",
    "        ### 답변:\n",
    "    \"\"\"\n",
    ")"
   ]
  },
  {
   "cell_type": "code",
   "execution_count": 4,
   "metadata": {},
   "outputs": [
    {
     "name": "stderr",
     "output_type": "stream",
     "text": [
      "/tmp/ipykernel_4865/67609685.py:8: LangChainDeprecationWarning: Please see the migration guide at: https://python.langchain.com/docs/versions/migrating_memory/\n",
      "  memory = ConversationBufferMemory(memory_key=\"chat_history\", return_messages=True)\n"
     ]
    }
   ],
   "source": [
    "os.environ[\"LANGCHAIN_API_KEY\"] = \"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\"  # 실제 API 키로 변경\n",
    "os.environ[\"LANGCHAIN_PROJECT\"] = \"travel_sj_project\"\n",
    "os.environ[\"LANGCHAIN_TRACING_V2\"] = \"true\"\n",
    "\n",
    "client = Client()\n",
    "\n",
    "# 메모리 객체 생성\n",
    "memory = ConversationBufferMemory(memory_key=\"chat_history\", return_messages=True)\n",
    "\n",
    "# 대화형 QA 체인 생성\n",
    "qa_chain = ConversationalRetrievalChain.from_llm(\n",
    "    llm=llm,\n",
    "    retriever=vector_store.as_retriever(),\n",
    "    memory=memory,\n",
    "    combine_docs_chain_kwargs={\"prompt\": custom_prompt}\n",
    ")"
   ]
  },
  {
   "cell_type": "code",
   "execution_count": 5,
   "metadata": {},
   "outputs": [],
   "source": [
    "# ✅ 국가 목록 상수 추가\n",
    "SUPPORTED_COUNTRIES = [\n",
    "    \"한국\", \"일본\", \"베트남\", \"미국\", \"필리핀\", \"싱가포르\", \"대만\",\n",
    "    \"인도네시아\", \"홍콩\", \"중국\", \"말레이시아\"\n",
    "]\n",
    "\n",
    "def detect_country(query):\n",
    "    \"\"\"사용자 질문에서 국가 감지\"\"\"\n",
    "    query_lower = query.lower()\n",
    "\n",
    "    # ✅ 기존 조건 → 딕셔너리로 정리\n",
    "    country_map = {\n",
    "        \"일본\": [\"일본\", \"재팬\", \"도쿄\", \"교토\", \"오사카\"],\n",
    "        \"대만\": [\"대만\", \"타이완\", \"타이페이\"],\n",
    "        \"한국\": [\"한국\", \"서울\", \"부산\", \"제주\"],\n",
    "        \"베트남\": [\"베트남\", \"하노이\", \"호치민\", \"다낭\", \"하롱베이\"],\n",
    "        \"미국\": [\"미국\", \"뉴욕\", \"로스앤젤레스\", \"시카고\", \"라스베가스\", \"하와이\"],\n",
    "        \"필리핀\": [\"필리핀\", \"마닐라\", \"세부\", \"보라카이\", \"팔라완\"],\n",
    "        \"싱가포르\": [\"싱가포르\", \"센토사\", \"마리나베이\", \"가든스바이더베이\"],\n",
    "        \"인도네시아\": [\"인도네시아\", \"발리\", \"자카르타\", \"롬복\"],\n",
    "        \"홍콩\": [\"홍콩\", \"침사추이\", \"란타우\", \"빅토리아피크\"],\n",
    "        \"중국\": [\"중국\", \"베이징\", \"상하이\", \"광저우\", \"시안\", \"만리장성\"],\n",
    "        \"말레이시아\": [\"말레이시아\", \"쿠알라룸푸르\", \"페낭\", \"코타키나발루\", \"랑카위\"]\n",
    "    }\n",
    "\n",
    "    for country, keywords in country_map.items():\n",
    "        if any(keyword in query_lower for keyword in keywords):\n",
    "            return country\n",
    "\n",
    "    return \"Unknown\"  # ✅ 감지되지 않으면 Unknown 반환\n",
    "\n",
    "\n",
    "def answer_question(query, qa_chain, vector_store, chat_history=None):\n",
    "    \"\"\"국가 필터링을 적용한 질문 처리\"\"\"\n",
    "\n",
    "    # 국가 감지\n",
    "    country = detect_country(query)\n",
    "\n",
    "    # ✅ 없는 나라 처리 추가\n",
    "    if country == \"Unknown\":\n",
    "        return {\n",
    "            \"result\": \"관련 데이터가 없습니다.\",\n",
    "            \"source_documents\": [],\n",
    "            \"question\": query\n",
    "        }\n",
    "\n",
    "    try:\n",
    "        is_conv_chain = hasattr(qa_chain, 'memory')\n",
    "\n",
    "        country_keywords = {\n",
    "            '일본': ['일본', '재팬', '도쿄'],\n",
    "            '대만': ['대만', '타이완', '타이페이'],\n",
    "            '한국': ['한국', '서울', '부산'],\n",
    "            '베트남': ['베트남', '하노이', '호치민'],\n",
    "            '미국': ['미국', '뉴욕', '워싱턴'],\n",
    "            '필리핀': ['필리핀', '마닐라', '세부'],\n",
    "            '싱가포르': ['싱가포르', '센토사'],\n",
    "            '인도네시아': ['인도네시아', '발리', '자카르타'],\n",
    "            '홍콩': ['홍콩'],\n",
    "            '중국': ['중국', '베이징', '상하이'],\n",
    "            '말레이시아': ['말레이시아', '쿠알라룸푸르']\n",
    "        }\n",
    "\n",
    "        enhanced_query = f\"{country_keywords.get(country, [country])[0]} {query}\"\n",
    "\n",
    "        if is_conv_chain:\n",
    "            if chat_history is not None:\n",
    "                result = qa_chain({\"question\": enhanced_query, \"chat_history\": chat_history})\n",
    "            else:\n",
    "                result = qa_chain({\"question\": enhanced_query})\n",
    "        else:\n",
    "            retriever = vector_store.as_retriever(search_kwargs={\"k\": 5})\n",
    "            docs = retriever.get_relevant_documents(enhanced_query)\n",
    "\n",
    "            keywords = country_keywords.get(country, [country.lower()])\n",
    "            filtered_docs = [\n",
    "                doc for doc in docs\n",
    "                if any(keyword.lower() in doc.metadata.get('source', '').lower() or\n",
    "                       keyword.lower() in doc.page_content.lower()\n",
    "                       for keyword in keywords)\n",
    "            ]\n",
    "\n",
    "            if not filtered_docs:\n",
    "                filtered_docs = docs\n",
    "\n",
    "            result = qa_chain({\n",
    "                \"input_documents\": filtered_docs,\n",
    "                \"query\": query\n",
    "            })\n",
    "\n",
    "        return result\n",
    "    except Exception as e:\n",
    "        print(f\"처리 중 오류 발생: {e}\")\n",
    "        return {\n",
    "            \"result\": f\"처리 중 오류가 발생했습니다: {str(e)}\",\n",
    "            \"source_documents\": [],\n",
    "            \"question\": query\n",
    "        }"
   ]
  },
  {
   "cell_type": "code",
   "execution_count": 11,
   "metadata": {
    "scrolled": true
   },
   "outputs": [
    {
     "name": "stdout",
     "output_type": "stream",
     "text": [
      "Answer: {'question': '대만 대만에 소세지 들고가도돼??', 'chat_history': [HumanMessage(content='대만 대만에 소세지 반입 돼??', additional_kwargs={}, response_metadata={}), AIMessage(content='\\n        너는 항공기 반입 금지 및 제한 물품에 대하여 친절하게 답해주고 나라별 여행지 추천 및 문화차이를 잘 설명할 수 있어\\n        문맥에 해당 하는 내용들만 신뢰도있게 대답해야해\\n\\n        ### 질문:\\n        대만 대만에 소세지 반입 돼??\\n        \\n        ### 문맥:\\n        바로 기차를 제외한 대중교통(버스, 지하철)에서 음식을 섭취하는 행동입니다. 특히 여러분들이 대만 여행을 할 때 가장 많이 이용하는 교통수단인 지하철MRT에서 주의하셔야 하는데요 지하철 역사에서는 취식이 가능하나 교통카드를 찍고 플랫폼 안으로 들어가는 순간 취식이 금지되니 꼭!!!! 기억해주세요 위반시 최대 10,000NTD (한화 38만원)의 벌금이 부과됩니다. 버스에서 거스름돈을 주지 않는다 한국과는 다르게 대만의 버스는 거스름돈을 주지 않습니다. 버스를 탑승하기 전 반드시 동전을 확인하셔야겠죠? 좁은 길에서는 이렇게 말하세요 여러분들이 대만 여행을 할 때 꼭 알고 있어야 할 중요한 중국어 입니다. 한국에서도 좁은 길을 비집고 들어오거나 밀치는 것은 상당히 무례한 행동이죠?? 대만 사람들도 이러한 행위들을 정말 불쾌하게 생각하고 있습니다. 그렇지만 이렇게 얘기한다면 자비로운 표정으로 길을 비켜줄 거예요 바로 찌에꿔이샤 입니다. 갑자기 길을 비켜준다고 협박하는 건 아닐까? 의심하지 마세요 한국말로 정중하게 지나가겠습니다 라는 표현입니다. 표현이 어렵다면 더욱 쉬운 표현인 뿌하오이쓰 라고 얘기하세요 이렇게 얘기하면 길을 비켜주는 사람들도 내가 길을 막아서 미안하다는 뜻으로 뿌하오이쓰 라고 대답하며 웃으며 길을 비켜 준답니다. 뿌하오이쓰는 대만 사람들이 살면서 가장 많이 얘기하는 단어랍니다. 그만큼 대만 사람들이 예의를 중요시 생각한다는 얘기겠죠? 엘리베이터에서 닫힘 버튼을 누른다 우리나라에서는 엘리베이터에 탑승하고 어느 정도 기다린 후에 닫힘 버튼을 누르거나 웬만하면 문이 닫힐 때까지 기다리지만, 대만에서는 다른 탑승자가 보이지 않는다면 버튼 앞에 서있는 사람이 재빨리 닫힘 버튼을 눌러야 기본적인 매너를 갖춘 사람이라고 인식한다고 합니다. 물론 다른 탑승자가 보인다면 열림 버튼을 눌러 안전한 탑승을 도와야겠죠? 술을 권하는 것은 친근함의 표시 하지만? 우리나라처럼 자주 술을 마시진 않지만 대만 사람들도 술을 즐기는 사람들이 많이 있습니다. 특히 대만에서 술을\\n\\n한국하고 상당히 가깝고 유교사상 때문에 문화와 생활(특히 예절)이 한국과 거의 다를 것이 없다고 생각할 수도 있지만, 대만에 살면서 느끼는 건 한국과 대만은 너무나도 다르다는 겁니다.  그래서 현지인들의 문화를 잘 모르는 여행객들은 사소한 실수 때문에 마찰이 일어날 수도 있답니다.  즐겁게 놀러온 여행지에서 이런 일이 있으면 절대 안 되겠죠? 가깝지만 더욱 먼 나라 대만 그래서 오늘은 타이완몬스터가 한국과 다른 대만의 문화! 그리고 대만에서 해서는 안 되는 행동들에 대해서 간단히 알려드리겠습니다! 한국에서는 인사를 나눌 때 고개를 숙이지만 대만에서는 보통 악수를 나누며 안부를 묻습니다.  비교적 젊은 사람이 나이 드신 분에게 악수를 청하는 모습은 정말 한국에서는 보기 힘든 모습이죠 식사 시에 밥그릇을 들고 먹는다 한국에서 밥그릇을 들고 먹는 행동을 부모님들에게 보인다면 보통 잔소리로 끝날 문제가 아니죠ㅎㅎ 저도 어릴 적 만화영화를 보고 밥그릇을 들고 먹다가 부모님께 혼난 적이 있는데요. 우리나라의 식사예절과는 반대로 대만에서는 밥그릇을 꼭 손에 들고 먹는답니다. 왜냐하면 대만은 식탁에서 음식을 흘리면서 먹는 것을 커다란 실례라고 생각하기 때문이죠. 그렇기 때문에 밥그릇을 입에 꼭 데고 먹는 대만 사람들이 많이 있답니다. 하지만 그렇다고 탕 을 입에 가져가서 드시면 안 돼요! 탕은 반드시 숟가락으로 드셔야 한답니다! 일본은 밥그릇과 국물요리가 들어있는 그릇을 들고 먹지만 대만은 밥그릇과 반찬이 있는 접시만 들고 먹는답니다. 신기하죠? 대중교통에서 취식 불가능 대만에 놀러 오는 여행객들이 가장 많이 하는 실수 BEST1! 바로 기차를 제외한 대중교통(버스, 지하철)에서 음식을 섭취하는 행동입니다. 특히 여러분들이 대만 여행을 할 때 가장 많이 이용하는 교통수단인 지하철MRT에서 주의하셔야 하는데요 지하철 역사에서는 취식이 가능하나 교통카드를 찍고 플랫폼 안으로 들어가는 순간 취식이 금지되니 꼭!!!! 기억해주세요 위반시 최대 10,000NTD (한화 38만원)의\\n\\n모든 곳에서 카드 사용이 가능하지만 대만은 백화점, 유명 레스토랑등을 제외하고는 카드 사용이 어려운 곳이 많이 있답니다. 그래서 환전은 조금 넉넉하게 해서 가져오시는 게 좋아요! 혼자 밥을 먹는것은 일상 서로 일이 바빠 어쩔 수 없이 혼자 여행을 온 여행객들에게 엄청난 희소식이죠! 대만에서는 혼자 밥을 먹는 것은 일상과 다름없습니다. 그 누구도 혼자 밥을 먹는 우리에게 관심을 갖지 않거든요! 교통카드를 편리하게 사용 가능하다. 대만의 교통카드 대만에서 가장 보편화된 교통카드인 이지카드 아마 여러분들도 알고 계실 텐데요 한국도 교통 카드를 이용해 편의점 결제를 할 수 있죠 하지만 대만에서는 이지카드로 일부 식당, 택시, 편의점, 자전거 대여, 관광지 입장권 등 정말 다양하게 사용할 수 있답니다. 넉넉히 충전해도 귀국 시에 전액 환불 가능하니 걱정 마세요\\n\\n紅包(홍바오)는 붉은 봉투라는 뜻으로, 붉은 색은 귀신을 쫓고 부귀를 부르며 福, 吉, 등의 글자가 새겨져 받는 사람의 축복을 비는 의미가 있죠. 따라서 대만사람들에게 홍바오란 단순한 봉투, 그 이상의 의미가 있게 됩니다. 세뱃돈이나 결혼식 축의금을 줄 때 덕담을 쓰고 새 돈을 넣어주며 졸업, 생일 등 즐거운날에는 항상 홍바오가 함께 한답니다 그렇다면 한국과 무엇이 다른가? 한국에서 흔하게 쓰이는 흰색 봉투는 장례식에서 사용되는 봉투입니다.  대만에서 유학을 하거나 직장생활을 하는 사람들은 반드시 알아두셔야겠죠? 택시 요금 할증은 오후 11시부터 우리 올빼미족들에게는 아쉽지만 대만에서는 오후 11시부터 택시 할증요금을 내야 한답니다. 기본요금 NT70에 NT20가 붙어 기본요금은 NT90가 되죠. 대만 택시기사님들은 왜 길을 돌아가나요? 제가 손님들과 이야기하면서 정말 많이 들었던 질문 중 하나인데요! 질문에 대한 제 대답은 어쩔 수 없다 입니다. 왜냐하면 우리나라와 다르게 대만은 시내의 혼잡도를 줄이기 위해서 일방통행 도로가 굉장히 많이 있고 좌회전이 불가능한 도로도 심심치 않게 찾아볼 수 있어요. 그래서 GPS 상에는 가깝게 보이는 곳도 상당히 돌아가야 된답니다. 혹시나 기사님들께 서운하셨던 분들 이 글을 보고 오해를 풀기 바랍니다 모기기피제는 선택 아닌 필수! 대만 모기는 정말 지독하답니다.. 정말 가렵고 붓기도 오래 갑니다. 군대 다녀오신 남성분들 아디다스 모기 보다 강력해요, 특히 남부 쪽에는 뎅기열 모기가 서식하고 있으니 꼭 모기 기피제를 뿌리고 다니셔야 합니다. 카드 사용이 힘들다 한국에서는 모든 곳에서 카드 사용이 가능하지만 대만은 백화점, 유명 레스토랑등을 제외하고는 카드 사용이 어려운 곳이 많이 있답니다. 그래서 환전은 조금 넉넉하게 해서 가져오시는 게 좋아요! 혼자 밥을 먹는것은 일상 서로 일이 바빠 어쩔 수 없이 혼자 여행을 온 여행객들에게 엄청난 희소식이죠! 대만에서는 혼자 밥을 먹는 것은 일상과 다름없습니다. 그 누구도 혼자 밥을\\n\\n        ### 답변:\\n    대만에서 소세지 반입이 가능한지 궁금하시군요.\\n\\n    대만 입국 시 육류 제품(소세지 포함)에 대해 엄격한 제한이 있습니다. 공항 면세점에서 구입한 소세지는 통과가 어려울 수 있으므로, 여행 전에 충분히 준비하시는 것이 좋습니다.\\n\\n    **대만 입국 시 소세지 반입 규정:**\\n\\n    *   **개인이 소지한 소세지:** 일반적으로 반입이 허용되지 않습니다.\\n    *   **공항 면세점에서 구입한 소세지:** 통과가 어려울 수 있으며, 세관 신고가 필요합니다.\\n    *   **식품 부산물 형태의 소세지:** 액체, 분말, 가루 등으로 가공되지 않은 상태라면 통과가 가능할 수도 있지만, 세관 직원 판단에 따라 달라질 수 있습니다.\\n\\n    따라서 대만 여행에 소세지를 챙겨 가려고 한다면, 세관에 문의하여 정확한 기준을 확인하거나, 다른 식품으로 대체하는 것이 안전합니다.', additional_kwargs={}, response_metadata={}), HumanMessage(content='대만 대만에 소세지 들고가도돼??', additional_kwargs={}, response_metadata={}), AIMessage(content='\\n        너는 항공기 반입 금지 및 제한 물품에 대하여 친절하게 답해주고 나라별 여행지 추천 및 문화차이를 잘 설명할 수 있어\\n        문맥에 해당 하는 내용들만 신뢰도있게 대답해야해\\n\\n        ### 질문:\\n        Given the following conversation and a follow up question, rephrase the follow up question to be a standalone question, in its original language.\\n\\nChat History:\\n\\nHuman: 대만 대만에 소세지 반입 돼??\\nAssistant: \\n        너는 항공기 반입 금지 및 제한 물품에 대하여 친절하게 답해주고 나라별 여행지 추천 및 문화차이를 잘 설명할 수 있어\\n        문맥에 해당 하는 내용들만 신뢰도있게 대답해야해\\n\\n        ### 질문:\\n        대만 대만에 소세지 반입 돼??\\n        \\n        ### 문맥:\\n        바로 기차를 제외한 대중교통(버스, 지하철)에서 음식을 섭취하는 행동입니다. 특히 여러분들이 대만 여행을 할 때 가장 많이 이용하는 교통수단인 지하철MRT에서 주의하셔야 하는데요 지하철 역사에서는 취식이 가능하나 교통카드를 찍고 플랫폼 안으로 들어가는 순간 취식이 금지되니 꼭!!!! 기억해주세요 위반시 최대 10,000NTD (한화 38만원)의 벌금이 부과됩니다. 버스에서 거스름돈을 주지 않는다 한국과는 다르게 대만의 버스는 거스름돈을 주지 않습니다. 버스를 탑승하기 전 반드시 동전을 확인하셔야겠죠? 좁은 길에서는 이렇게 말하세요 여러분들이 대만 여행을 할 때 꼭 알고 있어야 할 중요한 중국어 입니다. 한국에서도 좁은 길을 비집고 들어오거나 밀치는 것은 상당히 무례한 행동이죠?? 대만 사람들도 이러한 행위들을 정말 불쾌하게 생각하고 있습니다. 그렇지만 이렇게 얘기한다면 자비로운 표정으로 길을 비켜줄 거예요 바로 찌에꿔이샤 입니다. 갑자기 길을 비켜준다고 협박하는 건 아닐까? 의심하지 마세요 한국말로 정중하게 지나가겠습니다 라는 표현입니다. 표현이 어렵다면 더욱 쉬운 표현인 뿌하오이쓰 라고 얘기하세요 이렇게 얘기하면 길을 비켜주는 사람들도 내가 길을 막아서 미안하다는 뜻으로 뿌하오이쓰 라고 대답하며 웃으며 길을 비켜 준답니다. 뿌하오이쓰는 대만 사람들이 살면서 가장 많이 얘기하는 단어랍니다. 그만큼 대만 사람들이 예의를 중요시 생각한다는 얘기겠죠? 엘리베이터에서 닫힘 버튼을 누른다 우리나라에서는 엘리베이터에 탑승하고 어느 정도 기다린 후에 닫힘 버튼을 누르거나 웬만하면 문이 닫힐 때까지 기다리지만, 대만에서는 다른 탑승자가 보이지 않는다면 버튼 앞에 서있는 사람이 재빨리 닫힘 버튼을 눌러야 기본적인 매너를 갖춘 사람이라고 인식한다고 합니다. 물론 다른 탑승자가 보인다면 열림 버튼을 눌러 안전한 탑승을 도와야겠죠? 술을 권하는 것은 친근함의 표시 하지만? 우리나라처럼 자주 술을 마시진 않지만 대만 사람들도 술을 즐기는 사람들이 많이 있습니다. 특히 대만에서 술을\\n\\n한국하고 상당히 가깝고 유교사상 때문에 문화와 생활(특히 예절)이 한국과 거의 다를 것이 없다고 생각할 수도 있지만, 대만에 살면서 느끼는 건 한국과 대만은 너무나도 다르다는 겁니다.  그래서 현지인들의 문화를 잘 모르는 여행객들은 사소한 실수 때문에 마찰이 일어날 수도 있답니다.  즐겁게 놀러온 여행지에서 이런 일이 있으면 절대 안 되겠죠? 가깝지만 더욱 먼 나라 대만 그래서 오늘은 타이완몬스터가 한국과 다른 대만의 문화! 그리고 대만에서 해서는 안 되는 행동들에 대해서 간단히 알려드리겠습니다! 한국에서는 인사를 나눌 때 고개를 숙이지만 대만에서는 보통 악수를 나누며 안부를 묻습니다.  비교적 젊은 사람이 나이 드신 분에게 악수를 청하는 모습은 정말 한국에서는 보기 힘든 모습이죠 식사 시에 밥그릇을 들고 먹는다 한국에서 밥그릇을 들고 먹는 행동을 부모님들에게 보인다면 보통 잔소리로 끝날 문제가 아니죠ㅎㅎ 저도 어릴 적 만화영화를 보고 밥그릇을 들고 먹다가 부모님께 혼난 적이 있는데요. 우리나라의 식사예절과는 반대로 대만에서는 밥그릇을 꼭 손에 들고 먹는답니다. 왜냐하면 대만은 식탁에서 음식을 흘리면서 먹는 것을 커다란 실례라고 생각하기 때문이죠. 그렇기 때문에 밥그릇을 입에 꼭 데고 먹는 대만 사람들이 많이 있답니다. 하지만 그렇다고 탕 을 입에 가져가서 드시면 안 돼요! 탕은 반드시 숟가락으로 드셔야 한답니다! 일본은 밥그릇과 국물요리가 들어있는 그릇을 들고 먹지만 대만은 밥그릇과 반찬이 있는 접시만 들고 먹는답니다. 신기하죠? 대중교통에서 취식 불가능 대만에 놀러 오는 여행객들이 가장 많이 하는 실수 BEST1! 바로 기차를 제외한 대중교통(버스, 지하철)에서 음식을 섭취하는 행동입니다. 특히 여러분들이 대만 여행을 할 때 가장 많이 이용하는 교통수단인 지하철MRT에서 주의하셔야 하는데요 지하철 역사에서는 취식이 가능하나 교통카드를 찍고 플랫폼 안으로 들어가는 순간 취식이 금지되니 꼭!!!! 기억해주세요 위반시 최대 10,000NTD (한화 38만원)의\\n\\n모든 곳에서 카드 사용이 가능하지만 대만은 백화점, 유명 레스토랑등을 제외하고는 카드 사용이 어려운 곳이 많이 있답니다. 그래서 환전은 조금 넉넉하게 해서 가져오시는 게 좋아요! 혼자 밥을 먹는것은 일상 서로 일이 바빠 어쩔 수 없이 혼자 여행을 온 여행객들에게 엄청난 희소식이죠! 대만에서는 혼자 밥을 먹는 것은 일상과 다름없습니다. 그 누구도 혼자 밥을 먹는 우리에게 관심을 갖지 않거든요! 교통카드를 편리하게 사용 가능하다. 대만의 교통카드 대만에서 가장 보편화된 교통카드인 이지카드 아마 여러분들도 알고 계실 텐데요 한국도 교통 카드를 이용해 편의점 결제를 할 수 있죠 하지만 대만에서는 이지카드로 일부 식당, 택시, 편의점, 자전거 대여, 관광지 입장권 등 정말 다양하게 사용할 수 있답니다. 넉넉히 충전해도 귀국 시에 전액 환불 가능하니 걱정 마세요\\n\\n紅包(홍바오)는 붉은 봉투라는 뜻으로, 붉은 색은 귀신을 쫓고 부귀를 부르며 福, 吉, 등의 글자가 새겨져 받는 사람의 축복을 비는 의미가 있죠. 따라서 대만사람들에게 홍바오란 단순한 봉투, 그 이상의 의미가 있게 됩니다. 세뱃돈이나 결혼식 축의금을 줄 때 덕담을 쓰고 새 돈을 넣어주며 졸업, 생일 등 즐거운날에는 항상 홍바오가 함께 한답니다 그렇다면 한국과 무엇이 다른가? 한국에서 흔하게 쓰이는 흰색 봉투는 장례식에서 사용되는 봉투입니다.  대만에서 유학을 하거나 직장생활을 하는 사람들은 반드시 알아두셔야겠죠? 택시 요금 할증은 오후 11시부터 우리 올빼미족들에게는 아쉽지만 대만에서는 오후 11시부터 택시 할증요금을 내야 한답니다. 기본요금 NT70에 NT20가 붙어 기본요금은 NT90가 되죠. 대만 택시기사님들은 왜 길을 돌아가나요? 제가 손님들과 이야기하면서 정말 많이 들었던 질문 중 하나인데요! 질문에 대한 제 대답은 어쩔 수 없다 입니다. 왜냐하면 우리나라와 다르게 대만은 시내의 혼잡도를 줄이기 위해서 일방통행 도로가 굉장히 많이 있고 좌회전이 불가능한 도로도 심심치 않게 찾아볼 수 있어요. 그래서 GPS 상에는 가깝게 보이는 곳도 상당히 돌아가야 된답니다. 혹시나 기사님들께 서운하셨던 분들 이 글을 보고 오해를 풀기 바랍니다 모기기피제는 선택 아닌 필수! 대만 모기는 정말 지독하답니다.. 정말 가렵고 붓기도 오래 갑니다. 군대 다녀오신 남성분들 아디다스 모기 보다 강력해요, 특히 남부 쪽에는 뎅기열 모기가 서식하고 있으니 꼭 모기 기피제를 뿌리고 다니셔야 합니다. 카드 사용이 힘들다 한국에서는 모든 곳에서 카드 사용이 가능하지만 대만은 백화점, 유명 레스토랑등을 제외하고는 카드 사용이 어려운 곳이 많이 있답니다. 그래서 환전은 조금 넉넉하게 해서 가져오시는 게 좋아요! 혼자 밥을 먹는것은 일상 서로 일이 바빠 어쩔 수 없이 혼자 여행을 온 여행객들에게 엄청난 희소식이죠! 대만에서는 혼자 밥을 먹는 것은 일상과 다름없습니다. 그 누구도 혼자 밥을\\n\\n        ### 답변:\\n    대만에서 소세지 반입이 가능한지 궁금하시군요.\\n\\n    대만 입국 시 육류 제품(소세지 포함)에 대해 엄격한 제한이 있습니다. 공항 면세점에서 구입한 소세지는 통과가 어려울 수 있으므로, 여행 전에 충분히 준비하시는 것이 좋습니다.\\n\\n    **대만 입국 시 소세지 반입 규정:**\\n\\n    *   **개인이 소지한 소세지:** 일반적으로 반입이 허용되지 않습니다.\\n    *   **공항 면세점에서 구입한 소세지:** 통과가 어려울 수 있으며, 세관 신고가 필요합니다.\\n    *   **식품 부산물 형태의 소세지:** 액체, 분말, 가루 등으로 가공되지 않은 상태라면 통과가 가능할 수도 있지만, 세관 직원 판단에 따라 달라질 수 있습니다.\\n\\n    따라서 대만 여행에 소세지를 챙겨 가려고 한다면, 세관에 문의하여 정확한 기준을 확인하거나, 다른 식품으로 대체하는 것이 안전합니다.\\nFollow Up Input: 대만 대만에 소세지 들고가도돼??\\nStandalone question:\\n대만으로 입국할 때 소세지를 든지 어떤 형태로 가져가도 괜찮은지 궁금합니다.\\n        \\n        ### 문맥:\\n        한국하고 상당히 가깝고 유교사상 때문에 문화와 생활(특히 예절)이 한국과 거의 다를 것이 없다고 생각할 수도 있지만, 대만에 살면서 느끼는 건 한국과 대만은 너무나도 다르다는 겁니다.  그래서 현지인들의 문화를 잘 모르는 여행객들은 사소한 실수 때문에 마찰이 일어날 수도 있답니다.  즐겁게 놀러온 여행지에서 이런 일이 있으면 절대 안 되겠죠? 가깝지만 더욱 먼 나라 대만 그래서 오늘은 타이완몬스터가 한국과 다른 대만의 문화! 그리고 대만에서 해서는 안 되는 행동들에 대해서 간단히 알려드리겠습니다! 한국에서는 인사를 나눌 때 고개를 숙이지만 대만에서는 보통 악수를 나누며 안부를 묻습니다.  비교적 젊은 사람이 나이 드신 분에게 악수를 청하는 모습은 정말 한국에서는 보기 힘든 모습이죠 식사 시에 밥그릇을 들고 먹는다 한국에서 밥그릇을 들고 먹는 행동을 부모님들에게 보인다면 보통 잔소리로 끝날 문제가 아니죠ㅎㅎ 저도 어릴 적 만화영화를 보고 밥그릇을 들고 먹다가 부모님께 혼난 적이 있는데요. 우리나라의 식사예절과는 반대로 대만에서는 밥그릇을 꼭 손에 들고 먹는답니다. 왜냐하면 대만은 식탁에서 음식을 흘리면서 먹는 것을 커다란 실례라고 생각하기 때문이죠. 그렇기 때문에 밥그릇을 입에 꼭 데고 먹는 대만 사람들이 많이 있답니다. 하지만 그렇다고 탕 을 입에 가져가서 드시면 안 돼요! 탕은 반드시 숟가락으로 드셔야 한답니다! 일본은 밥그릇과 국물요리가 들어있는 그릇을 들고 먹지만 대만은 밥그릇과 반찬이 있는 접시만 들고 먹는답니다. 신기하죠? 대중교통에서 취식 불가능 대만에 놀러 오는 여행객들이 가장 많이 하는 실수 BEST1! 바로 기차를 제외한 대중교통(버스, 지하철)에서 음식을 섭취하는 행동입니다. 특히 여러분들이 대만 여행을 할 때 가장 많이 이용하는 교통수단인 지하철MRT에서 주의하셔야 하는데요 지하철 역사에서는 취식이 가능하나 교통카드를 찍고 플랫폼 안으로 들어가는 순간 취식이 금지되니 꼭!!!! 기억해주세요 위반시 최대 10,000NTD (한화 38만원)의\\n\\nsubstances) 재 , 유해 또는 시체인 수하물 (kotravelinformationbaggagerestrictedbaggageashesremains baggage) 지원 정보 제한 운송 품목에 대한 조언은 다음 채널 중 하나로 문의하시기 바랍니다  고객 센터  베트남 국내 전화하기  1900 1100 베트남 국제 전화하기  (8424) 38320320 지점 (kosupportvietnambranches)에 문의하기 피드백 (krkosupportcustomercarefeedback) 25. 3. 20. 오후 425 vietnamairlines.comkrkotravelinformationbaggagerestrictedbaggage 46\\n\\n에어아시아 항공편  금지 품목 타이 에어아시아 이 주제에 관한 다른 기사 와 토론을 살펴보세요 . 에어아시아 항공편  금지 품목 타이 에어아시아 2025. 1. 1자주 묻는 질문 영어 ( 영국 ) (GB) ( (S) 주제 내 사례 (HttpsWww.Airasia.ComMemberMycases?SCsm) 답변 Thai AirAsia( 항공사 코드 FD) 가 운항하는 항공편으로 여행하는 경우 , 다음 품목은 태국 민간 항공청 (CAAT) 에서 기내 수하물 , 위탁 수하물 또는 둘 다로 금지되어 있음을 유의하십시오 . 기내 수하물로 금지된 품목 1. 탄약 개인 사용을 위해 1 인당 총 중량 5kg 을 초과하지 않는 양으로만 안전하게 포장해야 한다는 점을 감안하여 위 탁 수하물로 허용됩니다 . 2 인 이상에 대한 허용 한도를 하나 이상의 패키지로 합칠 수 없습니다 . 2. 가연성 액체연료를 담고 있는 캠핑스토브 및 연료용기 모든 에어아시아 항공편 에서는 연료 탱크 또는 연료 용기를 허용 하지 않습니다 . 3. 이동 보조기구  배터리로 구동되는 휠체어 또는 유출되지 않는 습식 배터리 , 니켈  수소 배터리 또는 건전지를 사용한 기타 유사한 이동 장치 . 4. 불연성 , 무독성 에어로졸 (100ml 초과 ) 아래 조건에 따라 위탁 수하물로 허용됩니다  불연성 , 무독성 (2.2 등급 ) 에어로졸로서 , 보조적 위험이 없고 , 스포츠 또는 가정용으로 , 비방사성 의약 또는 세 면용품으로서 , 총 순량은 2kg 또는 2L 를 초과할 수 없고 , 각 개별 품목의 순량은 0.5kg 또는 0.5L 를 초과할 수 없습니다 . 에어로졸의 방출 밸브는 내용물이 실수로 방출되는 것을 방지하기 위해 캡이나 기타 적절한 수단으로 보호해 야 합니다 . 5. 수은을 함유한 온도계 ( 의료용 또는 임상용 ) 주제를 입력하세요 . 예   찾다 25. 3. 25. 오후 239 에어아시아 항공편  금지 품목 타이 에어아시아 18\\n\\n국가  지역 Language 모든 위치 및 언어 보기 (krkoalllocationlanguage) 지원 센터(krkohelpdesk)회원 로그인 회원 가입하기 ! (lotusmilesenrollnew) Search Vietnamairlines.com Korea 한국어 선택 (kr 여행 정보 (krkotravelinformation) (krkotravelinformationbaggage)수하물 (krkotravelinformationbaggage) 제한 수하물 승객의 안전을 위해 특정 위험 품목은 운송이 금지되거나 조건부로 운송됩니다 . 핸드 캐리어 및 위탁 수하물의 금지 품목 휴대 수하물로 반입이 금지된 물품 제한 수하물 계획 및 예약 (krkoplanbook) 여행 정보 (krkotravelinformation) 티켓 및 기타 제품 구매 (krkobuyticketsotherproducts) 로터스마일즈 (krkolotusmile) 피드백 (krkosupportcustomercarefeedback) 25. 3. 20. 오후 425 vietnamairlines.comkrkotravelinformationbaggagerestrictedbaggage 16\\n\\n        ### 답변:\\n    대만에서 소세지 반입이 가능한지 궁금하신가요?\\n\\n    대만 입국 시 육류 제품(소세지 포함)에 대해 엄격한 제한이 있습니다. 공항 면세점에서 구입한 소세지는 통과가 어려울 수 있으므로, 여행 전에 충분히 준비하시는 것이 좋겠습니다.\\n\\n    **대만 입국 시 소세지 반입 규정:**\\n\\n    *   **개인이 소지한 소세지:** 일반적으로 반입이 허용되지 않습니다.\\n    *   **공항 면세점에서 구입한 소세지:** 통과가 어려울 수 있으며, 세관 신고가 필요합니다.\\n    *   **식품 부산물 형태의 소세지:** 액체, 분말, 가루 등으로 가공되지 않은 상태라면 통과가 가능할 수도 있지만, 세관 직원 판단에 따라 달라질 수 있습니다.\\n\\n    따라서 대만 여행에 소세지를 챙겨 가려고 한다면, 세관에 문의하여 정확한 기준을 확인하거나, 다른 식품으로 대체하는 것이 안전합니다.', additional_kwargs={}, response_metadata={})], 'answer': '\\n        너는 항공기 반입 금지 및 제한 물품에 대하여 친절하게 답해주고 나라별 여행지 추천 및 문화차이를 잘 설명할 수 있어\\n        문맥에 해당 하는 내용들만 신뢰도있게 대답해야해\\n\\n        ### 질문:\\n        Given the following conversation and a follow up question, rephrase the follow up question to be a standalone question, in its original language.\\n\\nChat History:\\n\\nHuman: 대만 대만에 소세지 반입 돼??\\nAssistant: \\n        너는 항공기 반입 금지 및 제한 물품에 대하여 친절하게 답해주고 나라별 여행지 추천 및 문화차이를 잘 설명할 수 있어\\n        문맥에 해당 하는 내용들만 신뢰도있게 대답해야해\\n\\n        ### 질문:\\n        대만 대만에 소세지 반입 돼??\\n        \\n        ### 문맥:\\n        바로 기차를 제외한 대중교통(버스, 지하철)에서 음식을 섭취하는 행동입니다. 특히 여러분들이 대만 여행을 할 때 가장 많이 이용하는 교통수단인 지하철MRT에서 주의하셔야 하는데요 지하철 역사에서는 취식이 가능하나 교통카드를 찍고 플랫폼 안으로 들어가는 순간 취식이 금지되니 꼭!!!! 기억해주세요 위반시 최대 10,000NTD (한화 38만원)의 벌금이 부과됩니다. 버스에서 거스름돈을 주지 않는다 한국과는 다르게 대만의 버스는 거스름돈을 주지 않습니다. 버스를 탑승하기 전 반드시 동전을 확인하셔야겠죠? 좁은 길에서는 이렇게 말하세요 여러분들이 대만 여행을 할 때 꼭 알고 있어야 할 중요한 중국어 입니다. 한국에서도 좁은 길을 비집고 들어오거나 밀치는 것은 상당히 무례한 행동이죠?? 대만 사람들도 이러한 행위들을 정말 불쾌하게 생각하고 있습니다. 그렇지만 이렇게 얘기한다면 자비로운 표정으로 길을 비켜줄 거예요 바로 찌에꿔이샤 입니다. 갑자기 길을 비켜준다고 협박하는 건 아닐까? 의심하지 마세요 한국말로 정중하게 지나가겠습니다 라는 표현입니다. 표현이 어렵다면 더욱 쉬운 표현인 뿌하오이쓰 라고 얘기하세요 이렇게 얘기하면 길을 비켜주는 사람들도 내가 길을 막아서 미안하다는 뜻으로 뿌하오이쓰 라고 대답하며 웃으며 길을 비켜 준답니다. 뿌하오이쓰는 대만 사람들이 살면서 가장 많이 얘기하는 단어랍니다. 그만큼 대만 사람들이 예의를 중요시 생각한다는 얘기겠죠? 엘리베이터에서 닫힘 버튼을 누른다 우리나라에서는 엘리베이터에 탑승하고 어느 정도 기다린 후에 닫힘 버튼을 누르거나 웬만하면 문이 닫힐 때까지 기다리지만, 대만에서는 다른 탑승자가 보이지 않는다면 버튼 앞에 서있는 사람이 재빨리 닫힘 버튼을 눌러야 기본적인 매너를 갖춘 사람이라고 인식한다고 합니다. 물론 다른 탑승자가 보인다면 열림 버튼을 눌러 안전한 탑승을 도와야겠죠? 술을 권하는 것은 친근함의 표시 하지만? 우리나라처럼 자주 술을 마시진 않지만 대만 사람들도 술을 즐기는 사람들이 많이 있습니다. 특히 대만에서 술을\\n\\n한국하고 상당히 가깝고 유교사상 때문에 문화와 생활(특히 예절)이 한국과 거의 다를 것이 없다고 생각할 수도 있지만, 대만에 살면서 느끼는 건 한국과 대만은 너무나도 다르다는 겁니다.  그래서 현지인들의 문화를 잘 모르는 여행객들은 사소한 실수 때문에 마찰이 일어날 수도 있답니다.  즐겁게 놀러온 여행지에서 이런 일이 있으면 절대 안 되겠죠? 가깝지만 더욱 먼 나라 대만 그래서 오늘은 타이완몬스터가 한국과 다른 대만의 문화! 그리고 대만에서 해서는 안 되는 행동들에 대해서 간단히 알려드리겠습니다! 한국에서는 인사를 나눌 때 고개를 숙이지만 대만에서는 보통 악수를 나누며 안부를 묻습니다.  비교적 젊은 사람이 나이 드신 분에게 악수를 청하는 모습은 정말 한국에서는 보기 힘든 모습이죠 식사 시에 밥그릇을 들고 먹는다 한국에서 밥그릇을 들고 먹는 행동을 부모님들에게 보인다면 보통 잔소리로 끝날 문제가 아니죠ㅎㅎ 저도 어릴 적 만화영화를 보고 밥그릇을 들고 먹다가 부모님께 혼난 적이 있는데요. 우리나라의 식사예절과는 반대로 대만에서는 밥그릇을 꼭 손에 들고 먹는답니다. 왜냐하면 대만은 식탁에서 음식을 흘리면서 먹는 것을 커다란 실례라고 생각하기 때문이죠. 그렇기 때문에 밥그릇을 입에 꼭 데고 먹는 대만 사람들이 많이 있답니다. 하지만 그렇다고 탕 을 입에 가져가서 드시면 안 돼요! 탕은 반드시 숟가락으로 드셔야 한답니다! 일본은 밥그릇과 국물요리가 들어있는 그릇을 들고 먹지만 대만은 밥그릇과 반찬이 있는 접시만 들고 먹는답니다. 신기하죠? 대중교통에서 취식 불가능 대만에 놀러 오는 여행객들이 가장 많이 하는 실수 BEST1! 바로 기차를 제외한 대중교통(버스, 지하철)에서 음식을 섭취하는 행동입니다. 특히 여러분들이 대만 여행을 할 때 가장 많이 이용하는 교통수단인 지하철MRT에서 주의하셔야 하는데요 지하철 역사에서는 취식이 가능하나 교통카드를 찍고 플랫폼 안으로 들어가는 순간 취식이 금지되니 꼭!!!! 기억해주세요 위반시 최대 10,000NTD (한화 38만원)의\\n\\n모든 곳에서 카드 사용이 가능하지만 대만은 백화점, 유명 레스토랑등을 제외하고는 카드 사용이 어려운 곳이 많이 있답니다. 그래서 환전은 조금 넉넉하게 해서 가져오시는 게 좋아요! 혼자 밥을 먹는것은 일상 서로 일이 바빠 어쩔 수 없이 혼자 여행을 온 여행객들에게 엄청난 희소식이죠! 대만에서는 혼자 밥을 먹는 것은 일상과 다름없습니다. 그 누구도 혼자 밥을 먹는 우리에게 관심을 갖지 않거든요! 교통카드를 편리하게 사용 가능하다. 대만의 교통카드 대만에서 가장 보편화된 교통카드인 이지카드 아마 여러분들도 알고 계실 텐데요 한국도 교통 카드를 이용해 편의점 결제를 할 수 있죠 하지만 대만에서는 이지카드로 일부 식당, 택시, 편의점, 자전거 대여, 관광지 입장권 등 정말 다양하게 사용할 수 있답니다. 넉넉히 충전해도 귀국 시에 전액 환불 가능하니 걱정 마세요\\n\\n紅包(홍바오)는 붉은 봉투라는 뜻으로, 붉은 색은 귀신을 쫓고 부귀를 부르며 福, 吉, 등의 글자가 새겨져 받는 사람의 축복을 비는 의미가 있죠. 따라서 대만사람들에게 홍바오란 단순한 봉투, 그 이상의 의미가 있게 됩니다. 세뱃돈이나 결혼식 축의금을 줄 때 덕담을 쓰고 새 돈을 넣어주며 졸업, 생일 등 즐거운날에는 항상 홍바오가 함께 한답니다 그렇다면 한국과 무엇이 다른가? 한국에서 흔하게 쓰이는 흰색 봉투는 장례식에서 사용되는 봉투입니다.  대만에서 유학을 하거나 직장생활을 하는 사람들은 반드시 알아두셔야겠죠? 택시 요금 할증은 오후 11시부터 우리 올빼미족들에게는 아쉽지만 대만에서는 오후 11시부터 택시 할증요금을 내야 한답니다. 기본요금 NT70에 NT20가 붙어 기본요금은 NT90가 되죠. 대만 택시기사님들은 왜 길을 돌아가나요? 제가 손님들과 이야기하면서 정말 많이 들었던 질문 중 하나인데요! 질문에 대한 제 대답은 어쩔 수 없다 입니다. 왜냐하면 우리나라와 다르게 대만은 시내의 혼잡도를 줄이기 위해서 일방통행 도로가 굉장히 많이 있고 좌회전이 불가능한 도로도 심심치 않게 찾아볼 수 있어요. 그래서 GPS 상에는 가깝게 보이는 곳도 상당히 돌아가야 된답니다. 혹시나 기사님들께 서운하셨던 분들 이 글을 보고 오해를 풀기 바랍니다 모기기피제는 선택 아닌 필수! 대만 모기는 정말 지독하답니다.. 정말 가렵고 붓기도 오래 갑니다. 군대 다녀오신 남성분들 아디다스 모기 보다 강력해요, 특히 남부 쪽에는 뎅기열 모기가 서식하고 있으니 꼭 모기 기피제를 뿌리고 다니셔야 합니다. 카드 사용이 힘들다 한국에서는 모든 곳에서 카드 사용이 가능하지만 대만은 백화점, 유명 레스토랑등을 제외하고는 카드 사용이 어려운 곳이 많이 있답니다. 그래서 환전은 조금 넉넉하게 해서 가져오시는 게 좋아요! 혼자 밥을 먹는것은 일상 서로 일이 바빠 어쩔 수 없이 혼자 여행을 온 여행객들에게 엄청난 희소식이죠! 대만에서는 혼자 밥을 먹는 것은 일상과 다름없습니다. 그 누구도 혼자 밥을\\n\\n        ### 답변:\\n    대만에서 소세지 반입이 가능한지 궁금하시군요.\\n\\n    대만 입국 시 육류 제품(소세지 포함)에 대해 엄격한 제한이 있습니다. 공항 면세점에서 구입한 소세지는 통과가 어려울 수 있으므로, 여행 전에 충분히 준비하시는 것이 좋습니다.\\n\\n    **대만 입국 시 소세지 반입 규정:**\\n\\n    *   **개인이 소지한 소세지:** 일반적으로 반입이 허용되지 않습니다.\\n    *   **공항 면세점에서 구입한 소세지:** 통과가 어려울 수 있으며, 세관 신고가 필요합니다.\\n    *   **식품 부산물 형태의 소세지:** 액체, 분말, 가루 등으로 가공되지 않은 상태라면 통과가 가능할 수도 있지만, 세관 직원 판단에 따라 달라질 수 있습니다.\\n\\n    따라서 대만 여행에 소세지를 챙겨 가려고 한다면, 세관에 문의하여 정확한 기준을 확인하거나, 다른 식품으로 대체하는 것이 안전합니다.\\nFollow Up Input: 대만 대만에 소세지 들고가도돼??\\nStandalone question:\\n대만으로 입국할 때 소세지를 든지 어떤 형태로 가져가도 괜찮은지 궁금합니다.\\n        \\n        ### 문맥:\\n        한국하고 상당히 가깝고 유교사상 때문에 문화와 생활(특히 예절)이 한국과 거의 다를 것이 없다고 생각할 수도 있지만, 대만에 살면서 느끼는 건 한국과 대만은 너무나도 다르다는 겁니다.  그래서 현지인들의 문화를 잘 모르는 여행객들은 사소한 실수 때문에 마찰이 일어날 수도 있답니다.  즐겁게 놀러온 여행지에서 이런 일이 있으면 절대 안 되겠죠? 가깝지만 더욱 먼 나라 대만 그래서 오늘은 타이완몬스터가 한국과 다른 대만의 문화! 그리고 대만에서 해서는 안 되는 행동들에 대해서 간단히 알려드리겠습니다! 한국에서는 인사를 나눌 때 고개를 숙이지만 대만에서는 보통 악수를 나누며 안부를 묻습니다.  비교적 젊은 사람이 나이 드신 분에게 악수를 청하는 모습은 정말 한국에서는 보기 힘든 모습이죠 식사 시에 밥그릇을 들고 먹는다 한국에서 밥그릇을 들고 먹는 행동을 부모님들에게 보인다면 보통 잔소리로 끝날 문제가 아니죠ㅎㅎ 저도 어릴 적 만화영화를 보고 밥그릇을 들고 먹다가 부모님께 혼난 적이 있는데요. 우리나라의 식사예절과는 반대로 대만에서는 밥그릇을 꼭 손에 들고 먹는답니다. 왜냐하면 대만은 식탁에서 음식을 흘리면서 먹는 것을 커다란 실례라고 생각하기 때문이죠. 그렇기 때문에 밥그릇을 입에 꼭 데고 먹는 대만 사람들이 많이 있답니다. 하지만 그렇다고 탕 을 입에 가져가서 드시면 안 돼요! 탕은 반드시 숟가락으로 드셔야 한답니다! 일본은 밥그릇과 국물요리가 들어있는 그릇을 들고 먹지만 대만은 밥그릇과 반찬이 있는 접시만 들고 먹는답니다. 신기하죠? 대중교통에서 취식 불가능 대만에 놀러 오는 여행객들이 가장 많이 하는 실수 BEST1! 바로 기차를 제외한 대중교통(버스, 지하철)에서 음식을 섭취하는 행동입니다. 특히 여러분들이 대만 여행을 할 때 가장 많이 이용하는 교통수단인 지하철MRT에서 주의하셔야 하는데요 지하철 역사에서는 취식이 가능하나 교통카드를 찍고 플랫폼 안으로 들어가는 순간 취식이 금지되니 꼭!!!! 기억해주세요 위반시 최대 10,000NTD (한화 38만원)의\\n\\nsubstances) 재 , 유해 또는 시체인 수하물 (kotravelinformationbaggagerestrictedbaggageashesremains baggage) 지원 정보 제한 운송 품목에 대한 조언은 다음 채널 중 하나로 문의하시기 바랍니다  고객 센터  베트남 국내 전화하기  1900 1100 베트남 국제 전화하기  (8424) 38320320 지점 (kosupportvietnambranches)에 문의하기 피드백 (krkosupportcustomercarefeedback) 25. 3. 20. 오후 425 vietnamairlines.comkrkotravelinformationbaggagerestrictedbaggage 46\\n\\n에어아시아 항공편  금지 품목 타이 에어아시아 이 주제에 관한 다른 기사 와 토론을 살펴보세요 . 에어아시아 항공편  금지 품목 타이 에어아시아 2025. 1. 1자주 묻는 질문 영어 ( 영국 ) (GB) ( (S) 주제 내 사례 (HttpsWww.Airasia.ComMemberMycases?SCsm) 답변 Thai AirAsia( 항공사 코드 FD) 가 운항하는 항공편으로 여행하는 경우 , 다음 품목은 태국 민간 항공청 (CAAT) 에서 기내 수하물 , 위탁 수하물 또는 둘 다로 금지되어 있음을 유의하십시오 . 기내 수하물로 금지된 품목 1. 탄약 개인 사용을 위해 1 인당 총 중량 5kg 을 초과하지 않는 양으로만 안전하게 포장해야 한다는 점을 감안하여 위 탁 수하물로 허용됩니다 . 2 인 이상에 대한 허용 한도를 하나 이상의 패키지로 합칠 수 없습니다 . 2. 가연성 액체연료를 담고 있는 캠핑스토브 및 연료용기 모든 에어아시아 항공편 에서는 연료 탱크 또는 연료 용기를 허용 하지 않습니다 . 3. 이동 보조기구  배터리로 구동되는 휠체어 또는 유출되지 않는 습식 배터리 , 니켈  수소 배터리 또는 건전지를 사용한 기타 유사한 이동 장치 . 4. 불연성 , 무독성 에어로졸 (100ml 초과 ) 아래 조건에 따라 위탁 수하물로 허용됩니다  불연성 , 무독성 (2.2 등급 ) 에어로졸로서 , 보조적 위험이 없고 , 스포츠 또는 가정용으로 , 비방사성 의약 또는 세 면용품으로서 , 총 순량은 2kg 또는 2L 를 초과할 수 없고 , 각 개별 품목의 순량은 0.5kg 또는 0.5L 를 초과할 수 없습니다 . 에어로졸의 방출 밸브는 내용물이 실수로 방출되는 것을 방지하기 위해 캡이나 기타 적절한 수단으로 보호해 야 합니다 . 5. 수은을 함유한 온도계 ( 의료용 또는 임상용 ) 주제를 입력하세요 . 예   찾다 25. 3. 25. 오후 239 에어아시아 항공편  금지 품목 타이 에어아시아 18\\n\\n국가  지역 Language 모든 위치 및 언어 보기 (krkoalllocationlanguage) 지원 센터(krkohelpdesk)회원 로그인 회원 가입하기 ! (lotusmilesenrollnew) Search Vietnamairlines.com Korea 한국어 선택 (kr 여행 정보 (krkotravelinformation) (krkotravelinformationbaggage)수하물 (krkotravelinformationbaggage) 제한 수하물 승객의 안전을 위해 특정 위험 품목은 운송이 금지되거나 조건부로 운송됩니다 . 핸드 캐리어 및 위탁 수하물의 금지 품목 휴대 수하물로 반입이 금지된 물품 제한 수하물 계획 및 예약 (krkoplanbook) 여행 정보 (krkotravelinformation) 티켓 및 기타 제품 구매 (krkobuyticketsotherproducts) 로터스마일즈 (krkolotusmile) 피드백 (krkosupportcustomercarefeedback) 25. 3. 20. 오후 425 vietnamairlines.comkrkotravelinformationbaggagerestrictedbaggage 16\\n\\n        ### 답변:\\n    대만에서 소세지 반입이 가능한지 궁금하신가요?\\n\\n    대만 입국 시 육류 제품(소세지 포함)에 대해 엄격한 제한이 있습니다. 공항 면세점에서 구입한 소세지는 통과가 어려울 수 있으므로, 여행 전에 충분히 준비하시는 것이 좋겠습니다.\\n\\n    **대만 입국 시 소세지 반입 규정:**\\n\\n    *   **개인이 소지한 소세지:** 일반적으로 반입이 허용되지 않습니다.\\n    *   **공항 면세점에서 구입한 소세지:** 통과가 어려울 수 있으며, 세관 신고가 필요합니다.\\n    *   **식품 부산물 형태의 소세지:** 액체, 분말, 가루 등으로 가공되지 않은 상태라면 통과가 가능할 수도 있지만, 세관 직원 판단에 따라 달라질 수 있습니다.\\n\\n    따라서 대만 여행에 소세지를 챙겨 가려고 한다면, 세관에 문의하여 정확한 기준을 확인하거나, 다른 식품으로 대체하는 것이 안전합니다.'}\n",
      "Answer: 관련 데이터가 없습니다.\n"
     ]
    }
   ],
   "source": [
    "# 첫 번째 질문\n",
    "query = \"대만에 소세지 들고가도돼??\"\n",
    "result = answer_question(query, qa_chain, vector_store)\n",
    "print(\"Answer:\", result)\n",
    "\n",
    "# 후속 질문\n",
    "query = \"그럼 육포는 어때?\"\n",
    "result = answer_question(query, qa_chain, vector_store)\n",
    "print(\"Answer:\", result.get('result', '응답 없음'))"
   ]
  },
  {
   "cell_type": "code",
   "execution_count": 7,
   "metadata": {},
   "outputs": [],
   "source": [
    "#result = result['chat_history'][1].content.split(\"### 답변:\")[1]"
   ]
  },
  {
   "cell_type": "code",
   "execution_count": 8,
   "metadata": {},
   "outputs": [],
   "source": [
    "# query = \"아프리카에 반입금지 물품이 뭐야??\"\n",
    "# result = answer_question(query, qa_chain, vector_store)\n",
    "# print(\"Answer:\", result.get('result', '응답 없음'))  # 🔥 관련 데이터가 없습니다. 출력됨\n",
    "\n",
    "# query = \"아프리카에 지켜야 할 에티켓이 뭐야??\"\n",
    "# result = answer_question(query, qa_chain, vector_store)\n",
    "# print(\"Answer:\", result.get('result', '응답 없음'))  # 🔥 관련 데이터가 없습니다. 출력됨"
   ]
  },
  {
   "cell_type": "code",
   "execution_count": 9,
   "metadata": {},
   "outputs": [],
   "source": [
    "#!pip install gradio"
   ]
  },
  {
   "cell_type": "code",
   "execution_count": 10,
   "metadata": {},
   "outputs": [
    {
     "name": "stdout",
     "output_type": "stream",
     "text": [
      "* Running on local URL:  http://127.0.0.1:7860\n",
      "* Running on public URL: https://626155aacba2ec676c.gradio.live\n",
      "\n",
      "This share link expires in 72 hours. For free permanent hosting and GPU upgrades, run `gradio deploy` from the terminal in the working directory to deploy to Hugging Face Spaces (https://huggingface.co/spaces)\n"
     ]
    },
    {
     "data": {
      "text/html": [
       "<div><iframe src=\"https://626155aacba2ec676c.gradio.live\" width=\"100%\" height=\"500\" allow=\"autoplay; camera; microphone; clipboard-read; clipboard-write;\" frameborder=\"0\" allowfullscreen></iframe></div>"
      ],
      "text/plain": [
       "<IPython.core.display.HTML object>"
      ]
     },
     "metadata": {},
     "output_type": "display_data"
    },
    {
     "data": {
      "text/plain": []
     },
     "execution_count": 10,
     "metadata": {},
     "output_type": "execute_result"
    }
   ],
   "source": [
    "import gradio as gr\n",
    "\n",
    "def gradio_answer_question(query):\n",
    "    result = answer_question(query, qa_chain, vector_store)\n",
    "    output = result['chat_history'][1].content.split(\"### 답변:\")[1]\n",
    "    return output\n",
    "\n",
    "iface = gr.Interface(\n",
    "    fn=gradio_answer_question,\n",
    "    inputs=gr.Textbox(lines=2, placeholder=\"여행 관련 질문을 입력하세요.\"),\n",
    "    outputs=gr.Textbox(),\n",
    "    title=\"여행 정보 챗봇\",\n",
    "    description=\"국가별 반입 금지 품목 및 문화 차이에 대해 질문하세요.\"\n",
    ")\n",
    "\n",
    "iface.launch(share=True)\n"
   ]
  }
 ],
 "metadata": {
  "kernelspec": {
   "display_name": "Python 3 (ipykernel)",
   "language": "python",
   "name": "python3"
  },
  "language_info": {
   "codemirror_mode": {
    "name": "ipython",
    "version": 3
   },
   "file_extension": ".py",
   "mimetype": "text/x-python",
   "name": "python",
   "nbconvert_exporter": "python",
   "pygments_lexer": "ipython3",
   "version": "3.10.12"
  }
 },
 "nbformat": 4,
 "nbformat_minor": 4
}
